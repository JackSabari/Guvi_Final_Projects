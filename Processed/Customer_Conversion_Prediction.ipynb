{
  "nbformat": 4,
  "nbformat_minor": 0,
  "metadata": {
    "colab": {
      "provenance": []
    },
    "kernelspec": {
      "name": "python3",
      "display_name": "Python 3"
    },
    "language_info": {
      "name": "python"
    }
  },
  "cells": [
    {
      "cell_type": "markdown",
      "source": [
        "# **Customer Conversion Prediction**\n",
        "\n",
        "# Problem Statement\n",
        "You are working for a new-age insurance company and employ\n",
        "multiple outreach plans to sell term insurance to your\n",
        "customers. Telephonic marketing campaigns still remain one of\n",
        "the most effective ways to reach out to people however they\n",
        "incur a lot of cost. Hence, it is important to identify the\n",
        "customers that are most likely to convert beforehand so that\n",
        "they can be specifically targeted via call. We are given the\n",
        "historical marketing data of the insurance company and are\n",
        "required to build a ML model that will predict if a client will\n",
        "subscribe to the insurance.\n",
        "\n",
        "# Features:\n",
        "● age (numeric)\n",
        "● job : type of job\n",
        "● marital : marital status\n",
        "● educational_qual : education status\n",
        "● call_type : contact communication type\n",
        "● day: last contact day of the month (numeric)\n",
        "● mon: last contact month of year\n",
        "● dur: last contact duration, in seconds (numeric)\n",
        "● num_calls: number of contacts performed during this\n",
        "campaign and for this client\n",
        "● prev_outcome: outcome of the previous marketing\n",
        "campaign (categorical:\n",
        "\"unknown\",\"other\",\"failure\",\"success\")\n",
        "\n",
        "**Output variable (desired target):**\n",
        "\n",
        "● y - has the client subscribed to the insurance?\n",
        "\n",
        "**Minimum Requirements**\n",
        "\n",
        "It is not sufficient to just fit a model - the model must be\n",
        "analysed to find the important factors that contribute towards\n",
        "the price. AUROC must be used as a metric to evaluate the\n",
        "performance of the models\n"
      ],
      "metadata": {
        "id": "cHLIylFABaJo"
      }
    },
    {
      "cell_type": "markdown",
      "source": [
        "#**Installation**"
      ],
      "metadata": {
        "id": "RJSqoLMJNFJA"
      }
    },
    {
      "cell_type": "code",
      "source": [
        "#!pip install category_encoders"
      ],
      "metadata": {
        "id": "VE_LRSh4380U"
      },
      "execution_count": null,
      "outputs": []
    },
    {
      "cell_type": "markdown",
      "source": [
        "**1.Import Libraries**"
      ],
      "metadata": {
        "id": "EDxONpT6CYbf"
      }
    },
    {
      "cell_type": "code",
      "execution_count": null,
      "metadata": {
        "id": "5JNcW3ZqA7Qd"
      },
      "outputs": [],
      "source": [
        "#Data preprocessing and read csv files, dataframes, etc\n",
        "import pandas as pd\n",
        "import numpy as np\n",
        "\n",
        "#Encoding the data \n",
        "import category_encoders as ce\n",
        "\n",
        "#Visualize the data\n",
        "import seaborn as sns\n",
        "import matplotlib.pyplot as plt\n",
        "\n",
        "#Find the outliers in data\n",
        "from scipy import stats\n",
        "\n",
        "#Machine learning models and techniques\n",
        "from sklearn.utils import resample,all_estimators\n",
        "from sklearn.model_selection import train_test_split\n",
        "from sklearn.ensemble import RandomForestClassifier,GradientBoostingClassifier\n",
        "from sklearn.linear_model import LogisticRegression\n",
        "from sklearn.metrics import accuracy_score,classification_report,confusion_matrix,roc_curve,roc_auc_score\n",
        "from sklearn.model_selection import GridSearchCV\n",
        "\n",
        "#To ignore warnings\n",
        "import warnings\n",
        "warnings.simplefilter('ignore')"
      ]
    },
    {
      "cell_type": "markdown",
      "source": [
        "**2.Import Dataset**"
      ],
      "metadata": {
        "id": "wuDyi--YT8Bw"
      }
    },
    {
      "cell_type": "code",
      "source": [
        "df=pd.read_csv('/data/Customer Conversion Prediction - Customer Conversion Prediction.csv')\n",
        "df.head()"
      ],
      "metadata": {
        "colab": {
          "base_uri": "https://localhost:8080/",
          "height": 206
        },
        "id": "Upgj-pSoEPIj",
        "outputId": "46bb5f3c-d4bd-4872-fb96-9826bf57c9b0"
      },
      "execution_count": null,
      "outputs": [
        {
          "output_type": "execute_result",
          "data": {
            "text/plain": [
              "   age           job  marital education_qual call_type  day  mon  dur  \\\n",
              "0   58    management  married       tertiary   unknown    5  may  261   \n",
              "1   44    technician   single      secondary   unknown    5  may  151   \n",
              "2   33  entrepreneur  married      secondary   unknown    5  may   76   \n",
              "3   47   blue-collar  married        unknown   unknown    5  may   92   \n",
              "4   33       unknown   single        unknown   unknown    5  may  198   \n",
              "\n",
              "   num_calls prev_outcome   y  \n",
              "0          1      unknown  no  \n",
              "1          1      unknown  no  \n",
              "2          1      unknown  no  \n",
              "3          1      unknown  no  \n",
              "4          1      unknown  no  "
            ],
            "text/html": [
              "\n",
              "  <div id=\"df-463e66d8-317f-49bd-8c20-fc395e75e31d\">\n",
              "    <div class=\"colab-df-container\">\n",
              "      <div>\n",
              "<style scoped>\n",
              "    .dataframe tbody tr th:only-of-type {\n",
              "        vertical-align: middle;\n",
              "    }\n",
              "\n",
              "    .dataframe tbody tr th {\n",
              "        vertical-align: top;\n",
              "    }\n",
              "\n",
              "    .dataframe thead th {\n",
              "        text-align: right;\n",
              "    }\n",
              "</style>\n",
              "<table border=\"1\" class=\"dataframe\">\n",
              "  <thead>\n",
              "    <tr style=\"text-align: right;\">\n",
              "      <th></th>\n",
              "      <th>age</th>\n",
              "      <th>job</th>\n",
              "      <th>marital</th>\n",
              "      <th>education_qual</th>\n",
              "      <th>call_type</th>\n",
              "      <th>day</th>\n",
              "      <th>mon</th>\n",
              "      <th>dur</th>\n",
              "      <th>num_calls</th>\n",
              "      <th>prev_outcome</th>\n",
              "      <th>y</th>\n",
              "    </tr>\n",
              "  </thead>\n",
              "  <tbody>\n",
              "    <tr>\n",
              "      <th>0</th>\n",
              "      <td>58</td>\n",
              "      <td>management</td>\n",
              "      <td>married</td>\n",
              "      <td>tertiary</td>\n",
              "      <td>unknown</td>\n",
              "      <td>5</td>\n",
              "      <td>may</td>\n",
              "      <td>261</td>\n",
              "      <td>1</td>\n",
              "      <td>unknown</td>\n",
              "      <td>no</td>\n",
              "    </tr>\n",
              "    <tr>\n",
              "      <th>1</th>\n",
              "      <td>44</td>\n",
              "      <td>technician</td>\n",
              "      <td>single</td>\n",
              "      <td>secondary</td>\n",
              "      <td>unknown</td>\n",
              "      <td>5</td>\n",
              "      <td>may</td>\n",
              "      <td>151</td>\n",
              "      <td>1</td>\n",
              "      <td>unknown</td>\n",
              "      <td>no</td>\n",
              "    </tr>\n",
              "    <tr>\n",
              "      <th>2</th>\n",
              "      <td>33</td>\n",
              "      <td>entrepreneur</td>\n",
              "      <td>married</td>\n",
              "      <td>secondary</td>\n",
              "      <td>unknown</td>\n",
              "      <td>5</td>\n",
              "      <td>may</td>\n",
              "      <td>76</td>\n",
              "      <td>1</td>\n",
              "      <td>unknown</td>\n",
              "      <td>no</td>\n",
              "    </tr>\n",
              "    <tr>\n",
              "      <th>3</th>\n",
              "      <td>47</td>\n",
              "      <td>blue-collar</td>\n",
              "      <td>married</td>\n",
              "      <td>unknown</td>\n",
              "      <td>unknown</td>\n",
              "      <td>5</td>\n",
              "      <td>may</td>\n",
              "      <td>92</td>\n",
              "      <td>1</td>\n",
              "      <td>unknown</td>\n",
              "      <td>no</td>\n",
              "    </tr>\n",
              "    <tr>\n",
              "      <th>4</th>\n",
              "      <td>33</td>\n",
              "      <td>unknown</td>\n",
              "      <td>single</td>\n",
              "      <td>unknown</td>\n",
              "      <td>unknown</td>\n",
              "      <td>5</td>\n",
              "      <td>may</td>\n",
              "      <td>198</td>\n",
              "      <td>1</td>\n",
              "      <td>unknown</td>\n",
              "      <td>no</td>\n",
              "    </tr>\n",
              "  </tbody>\n",
              "</table>\n",
              "</div>\n",
              "      <button class=\"colab-df-convert\" onclick=\"convertToInteractive('df-463e66d8-317f-49bd-8c20-fc395e75e31d')\"\n",
              "              title=\"Convert this dataframe to an interactive table.\"\n",
              "              style=\"display:none;\">\n",
              "        \n",
              "  <svg xmlns=\"http://www.w3.org/2000/svg\" height=\"24px\"viewBox=\"0 0 24 24\"\n",
              "       width=\"24px\">\n",
              "    <path d=\"M0 0h24v24H0V0z\" fill=\"none\"/>\n",
              "    <path d=\"M18.56 5.44l.94 2.06.94-2.06 2.06-.94-2.06-.94-.94-2.06-.94 2.06-2.06.94zm-11 1L8.5 8.5l.94-2.06 2.06-.94-2.06-.94L8.5 2.5l-.94 2.06-2.06.94zm10 10l.94 2.06.94-2.06 2.06-.94-2.06-.94-.94-2.06-.94 2.06-2.06.94z\"/><path d=\"M17.41 7.96l-1.37-1.37c-.4-.4-.92-.59-1.43-.59-.52 0-1.04.2-1.43.59L10.3 9.45l-7.72 7.72c-.78.78-.78 2.05 0 2.83L4 21.41c.39.39.9.59 1.41.59.51 0 1.02-.2 1.41-.59l7.78-7.78 2.81-2.81c.8-.78.8-2.07 0-2.86zM5.41 20L4 18.59l7.72-7.72 1.47 1.35L5.41 20z\"/>\n",
              "  </svg>\n",
              "      </button>\n",
              "      \n",
              "  <style>\n",
              "    .colab-df-container {\n",
              "      display:flex;\n",
              "      flex-wrap:wrap;\n",
              "      gap: 12px;\n",
              "    }\n",
              "\n",
              "    .colab-df-convert {\n",
              "      background-color: #E8F0FE;\n",
              "      border: none;\n",
              "      border-radius: 50%;\n",
              "      cursor: pointer;\n",
              "      display: none;\n",
              "      fill: #1967D2;\n",
              "      height: 32px;\n",
              "      padding: 0 0 0 0;\n",
              "      width: 32px;\n",
              "    }\n",
              "\n",
              "    .colab-df-convert:hover {\n",
              "      background-color: #E2EBFA;\n",
              "      box-shadow: 0px 1px 2px rgba(60, 64, 67, 0.3), 0px 1px 3px 1px rgba(60, 64, 67, 0.15);\n",
              "      fill: #174EA6;\n",
              "    }\n",
              "\n",
              "    [theme=dark] .colab-df-convert {\n",
              "      background-color: #3B4455;\n",
              "      fill: #D2E3FC;\n",
              "    }\n",
              "\n",
              "    [theme=dark] .colab-df-convert:hover {\n",
              "      background-color: #434B5C;\n",
              "      box-shadow: 0px 1px 3px 1px rgba(0, 0, 0, 0.15);\n",
              "      filter: drop-shadow(0px 1px 2px rgba(0, 0, 0, 0.3));\n",
              "      fill: #FFFFFF;\n",
              "    }\n",
              "  </style>\n",
              "\n",
              "      <script>\n",
              "        const buttonEl =\n",
              "          document.querySelector('#df-463e66d8-317f-49bd-8c20-fc395e75e31d button.colab-df-convert');\n",
              "        buttonEl.style.display =\n",
              "          google.colab.kernel.accessAllowed ? 'block' : 'none';\n",
              "\n",
              "        async function convertToInteractive(key) {\n",
              "          const element = document.querySelector('#df-463e66d8-317f-49bd-8c20-fc395e75e31d');\n",
              "          const dataTable =\n",
              "            await google.colab.kernel.invokeFunction('convertToInteractive',\n",
              "                                                     [key], {});\n",
              "          if (!dataTable) return;\n",
              "\n",
              "          const docLinkHtml = 'Like what you see? Visit the ' +\n",
              "            '<a target=\"_blank\" href=https://colab.research.google.com/notebooks/data_table.ipynb>data table notebook</a>'\n",
              "            + ' to learn more about interactive tables.';\n",
              "          element.innerHTML = '';\n",
              "          dataTable['output_type'] = 'display_data';\n",
              "          await google.colab.output.renderOutput(dataTable, element);\n",
              "          const docLink = document.createElement('div');\n",
              "          docLink.innerHTML = docLinkHtml;\n",
              "          element.appendChild(docLink);\n",
              "        }\n",
              "      </script>\n",
              "    </div>\n",
              "  </div>\n",
              "  "
            ]
          },
          "metadata": {},
          "execution_count": 92
        }
      ]
    },
    {
      "cell_type": "markdown",
      "source": [
        "**3.Data Preprocessing**\n",
        "\n",
        "**Data Cleaning**\n"
      ],
      "metadata": {
        "id": "Lu7AWEGxUCUc"
      }
    },
    {
      "cell_type": "code",
      "source": [
        "#Find Null vallues\n",
        "is_null=df.isnull().sum()\n",
        "\n",
        "#plot the null values\n",
        "plt.figure(figsize=(15,5))\n",
        "plt.title('Null Values', fontsize=20)\n",
        "plt.xlabel('All features', fontsize=20)\n",
        "plt.ylabel('null', fontsize=20)\n",
        "plt.plot(is_null.values)\n",
        "plt.bar(is_null.index,is_null.values)\n",
        "plt.show()"
      ],
      "metadata": {
        "colab": {
          "base_uri": "https://localhost:8080/",
          "height": 364
        },
        "id": "R-M0BClnEdsi",
        "outputId": "75dc7ce9-486d-473d-bc7b-ecef24eeb350"
      },
      "execution_count": null,
      "outputs": [
        {
          "output_type": "display_data",
          "data": {
            "text/plain": [
              "<Figure size 1080x360 with 1 Axes>"
            ],
            "image/png": "[encoded data removed]"
          },
          "metadata": {}
        }
      ]
    },
    {
      "cell_type": "markdown",
      "source": [
        "There is no null values"
      ],
      "metadata": {
        "id": "5egRFJwiAoCx"
      }
    },
    {
      "cell_type": "markdown",
      "source": [
        "**Count the feature values which has stings**"
      ],
      "metadata": {
        "id": "5-7zQkh1AurI"
      }
    },
    {
      "cell_type": "code",
      "source": [
        "for elem in df.columns:\n",
        "  if elem not in ['age','day','dur','num_calls']:\n",
        "    val_count=df[elem].value_counts()\n",
        "    plt.figure(figsize=(15,5))\n",
        "    plt.bar(val_count.index,val_count.values)\n",
        "    plt.title(f'{elem}',fontsize=15)\n",
        "    plt.xlabel('Values')\n",
        "    plt.ylabel('Count')\n",
        "    plt.show()"
      ],
      "metadata": {
        "colab": {
          "base_uri": "https://localhost:8080/",
          "height": 1000
        },
        "id": "G-3d8o-TEfRO",
        "outputId": "8bb9facc-a15a-49b0-88cb-3d7bb6fbd6eb"
      },
      "execution_count": null,
      "outputs": [
        {
          "output_type": "display_data",
          "data": {
            "text/plain": [
              "<Figure size 1080x360 with 1 Axes>"
            ],
            "image/png": "[encoded data removed]"
          },
          "metadata": {}
        },
        {
          "output_type": "display_data",
          "data": {
            "text/plain": [
              "<Figure size 1080x360 with 1 Axes>"
            ],
            "image/png": "[encoded data removed]"
          },
          "metadata": {}
        },
        {
          "output_type": "display_data",
          "data": {
            "text/plain": [
              "<Figure size 1080x360 with 1 Axes>"
            ],
            "image/png": "[encoded data removed]"
          },
          "metadata": {}
        },
        {
          "output_type": "display_data",
          "data": {
            "text/plain": [
              "<Figure size 1080x360 with 1 Axes>"
            ],
            "image/png": "[encoded data removed]"
          },
          "metadata": {}
        },
        {
          "output_type": "display_data",
          "data": {
            "text/plain": [
              "<Figure size 1080x360 with 1 Axes>"
            ],
            "image/png": "[encoded data removed]"
          },
          "metadata": {}
        },
        {
          "output_type": "display_data",
          "data": {
            "text/plain": [
              "<Figure size 1080x360 with 1 Axes>"
            ],
            "image/png": "[encoded data removed]"
          },
          "metadata": {}
        },
        {
          "output_type": "display_data",
          "data": {
            "text/plain": [
              "<Figure size 1080x360 with 1 Axes>"
            ],
            "image/png": "[encoded data removed]"
          },
          "metadata": {}
        }
      ]
    },
    {
      "cell_type": "markdown",
      "source": [
        "**Encoding the categorical data**"
      ],
      "metadata": {
        "id": "rwAEP9GFA7CZ"
      }
    },
    {
      "cell_type": "code",
      "source": [
        "# One Hot Encoder - Nominal Data\n",
        "ohe=ce.OneHotEncoder(cols=['job','marital','call_type','mon'],use_cat_names=True)\n",
        "df1=ohe.fit_transform(df)"
      ],
      "metadata": {
        "id": "YBzGBnrnVIQt"
      },
      "execution_count": null,
      "outputs": []
    },
    {
      "cell_type": "code",
      "source": [
        "df1['y']=df1['y'].map({'yes':1,'no':0})"
      ],
      "metadata": {
        "id": "XVkuOFsPVp4H"
      },
      "execution_count": null,
      "outputs": []
    },
    {
      "cell_type": "code",
      "source": [
        "# Ordinal Encoder - Ordinal Data\n",
        "oe=ce.OrdinalEncoder(cols=['education_qual','prev_outcome'])\n",
        "df2=oe.fit_transform(df1)\n",
        "df2.head()\n"
      ],
      "metadata": {
        "colab": {
          "base_uri": "https://localhost:8080/",
          "height": 316
        },
        "id": "OgDDWGF28fSs",
        "outputId": "a948c239-80de-4394-b30e-47ebd99be205"
      },
      "execution_count": null,
      "outputs": [
        {
          "output_type": "execute_result",
          "data": {
            "text/plain": [
              "   age  job_management  job_technician  job_entrepreneur  job_blue-collar  \\\n",
              "0   58               1               0                 0                0   \n",
              "1   44               0               1                 0                0   \n",
              "2   33               0               0                 1                0   \n",
              "3   47               0               0                 0                1   \n",
              "4   33               0               0                 0                0   \n",
              "\n",
              "   job_unknown  job_retired  job_admin.  job_services  job_self-employed  ...  \\\n",
              "0            0            0           0             0                  0  ...   \n",
              "1            0            0           0             0                  0  ...   \n",
              "2            0            0           0             0                  0  ...   \n",
              "3            0            0           0             0                  0  ...   \n",
              "4            1            0           0             0                  0  ...   \n",
              "\n",
              "   mon_dec  mon_jan  mon_feb  mon_mar  mon_apr  mon_sep  dur  num_calls  \\\n",
              "0        0        0        0        0        0        0  261          1   \n",
              "1        0        0        0        0        0        0  151          1   \n",
              "2        0        0        0        0        0        0   76          1   \n",
              "3        0        0        0        0        0        0   92          1   \n",
              "4        0        0        0        0        0        0  198          1   \n",
              "\n",
              "   prev_outcome  y  \n",
              "0             1  0  \n",
              "1             1  0  \n",
              "2             1  0  \n",
              "3             1  0  \n",
              "4             1  0  \n",
              "\n",
              "[5 rows x 37 columns]"
            ],
            "text/html": [
              "\n",
              "  <div id=\"df-f0f2615e-c85d-460c-a900-58bdedb0da39\">\n",
              "    <div class=\"colab-df-container\">\n",
              "      <div>\n",
              "<style scoped>\n",
              "    .dataframe tbody tr th:only-of-type {\n",
              "        vertical-align: middle;\n",
              "    }\n",
              "\n",
              "    .dataframe tbody tr th {\n",
              "        vertical-align: top;\n",
              "    }\n",
              "\n",
              "    .dataframe thead th {\n",
              "        text-align: right;\n",
              "    }\n",
              "</style>\n",
              "<table border=\"1\" class=\"dataframe\">\n",
              "  <thead>\n",
              "    <tr style=\"text-align: right;\">\n",
              "      <th></th>\n",
              "      <th>age</th>\n",
              "      <th>job_management</th>\n",
              "      <th>job_technician</th>\n",
              "      <th>job_entrepreneur</th>\n",
              "      <th>job_blue-collar</th>\n",
              "      <th>job_unknown</th>\n",
              "      <th>job_retired</th>\n",
              "      <th>job_admin.</th>\n",
              "      <th>job_services</th>\n",
              "      <th>job_self-employed</th>\n",
              "      <th>...</th>\n",
              "      <th>mon_dec</th>\n",
              "      <th>mon_jan</th>\n",
              "      <th>mon_feb</th>\n",
              "      <th>mon_mar</th>\n",
              "      <th>mon_apr</th>\n",
              "      <th>mon_sep</th>\n",
              "      <th>dur</th>\n",
              "      <th>num_calls</th>\n",
              "      <th>prev_outcome</th>\n",
              "      <th>y</th>\n",
              "    </tr>\n",
              "  </thead>\n",
              "  <tbody>\n",
              "    <tr>\n",
              "      <th>0</th>\n",
              "      <td>58</td>\n",
              "      <td>1</td>\n",
              "      <td>0</td>\n",
              "      <td>0</td>\n",
              "      <td>0</td>\n",
              "      <td>0</td>\n",
              "      <td>0</td>\n",
              "      <td>0</td>\n",
              "      <td>0</td>\n",
              "      <td>0</td>\n",
              "      <td>...</td>\n",
              "      <td>0</td>\n",
              "      <td>0</td>\n",
              "      <td>0</td>\n",
              "      <td>0</td>\n",
              "      <td>0</td>\n",
              "      <td>0</td>\n",
              "      <td>261</td>\n",
              "      <td>1</td>\n",
              "      <td>1</td>\n",
              "      <td>0</td>\n",
              "    </tr>\n",
              "    <tr>\n",
              "      <th>1</th>\n",
              "      <td>44</td>\n",
              "      <td>0</td>\n",
              "      <td>1</td>\n",
              "      <td>0</td>\n",
              "      <td>0</td>\n",
              "      <td>0</td>\n",
              "      <td>0</td>\n",
              "      <td>0</td>\n",
              "      <td>0</td>\n",
              "      <td>0</td>\n",
              "      <td>...</td>\n",
              "      <td>0</td>\n",
              "      <td>0</td>\n",
              "      <td>0</td>\n",
              "      <td>0</td>\n",
              "      <td>0</td>\n",
              "      <td>0</td>\n",
              "      <td>151</td>\n",
              "      <td>1</td>\n",
              "      <td>1</td>\n",
              "      <td>0</td>\n",
              "    </tr>\n",
              "    <tr>\n",
              "      <th>2</th>\n",
              "      <td>33</td>\n",
              "      <td>0</td>\n",
              "      <td>0</td>\n",
              "      <td>1</td>\n",
              "      <td>0</td>\n",
              "      <td>0</td>\n",
              "      <td>0</td>\n",
              "      <td>0</td>\n",
              "      <td>0</td>\n",
              "      <td>0</td>\n",
              "      <td>...</td>\n",
              "      <td>0</td>\n",
              "      <td>0</td>\n",
              "      <td>0</td>\n",
              "      <td>0</td>\n",
              "      <td>0</td>\n",
              "      <td>0</td>\n",
              "      <td>76</td>\n",
              "      <td>1</td>\n",
              "      <td>1</td>\n",
              "      <td>0</td>\n",
              "    </tr>\n",
              "    <tr>\n",
              "      <th>3</th>\n",
              "      <td>47</td>\n",
              "      <td>0</td>\n",
              "      <td>0</td>\n",
              "      <td>0</td>\n",
              "      <td>1</td>\n",
              "      <td>0</td>\n",
              "      <td>0</td>\n",
              "      <td>0</td>\n",
              "      <td>0</td>\n",
              "      <td>0</td>\n",
              "      <td>...</td>\n",
              "      <td>0</td>\n",
              "      <td>0</td>\n",
              "      <td>0</td>\n",
              "      <td>0</td>\n",
              "      <td>0</td>\n",
              "      <td>0</td>\n",
              "      <td>92</td>\n",
              "      <td>1</td>\n",
              "      <td>1</td>\n",
              "      <td>0</td>\n",
              "    </tr>\n",
              "    <tr>\n",
              "      <th>4</th>\n",
              "      <td>33</td>\n",
              "      <td>0</td>\n",
              "      <td>0</td>\n",
              "      <td>0</td>\n",
              "      <td>0</td>\n",
              "      <td>1</td>\n",
              "      <td>0</td>\n",
              "      <td>0</td>\n",
              "      <td>0</td>\n",
              "      <td>0</td>\n",
              "      <td>...</td>\n",
              "      <td>0</td>\n",
              "      <td>0</td>\n",
              "      <td>0</td>\n",
              "      <td>0</td>\n",
              "      <td>0</td>\n",
              "      <td>0</td>\n",
              "      <td>198</td>\n",
              "      <td>1</td>\n",
              "      <td>1</td>\n",
              "      <td>0</td>\n",
              "    </tr>\n",
              "  </tbody>\n",
              "</table>\n",
              "<p>5 rows × 37 columns</p>\n",
              "</div>\n",
              "      <button class=\"colab-df-convert\" onclick=\"convertToInteractive('df-f0f2615e-c85d-460c-a900-58bdedb0da39')\"\n",
              "              title=\"Convert this dataframe to an interactive table.\"\n",
              "              style=\"display:none;\">\n",
              "        \n",
              "  <svg xmlns=\"http://www.w3.org/2000/svg\" height=\"24px\"viewBox=\"0 0 24 24\"\n",
              "       width=\"24px\">\n",
              "    <path d=\"M0 0h24v24H0V0z\" fill=\"none\"/>\n",
              "    <path d=\"M18.56 5.44l.94 2.06.94-2.06 2.06-.94-2.06-.94-.94-2.06-.94 2.06-2.06.94zm-11 1L8.5 8.5l.94-2.06 2.06-.94-2.06-.94L8.5 2.5l-.94 2.06-2.06.94zm10 10l.94 2.06.94-2.06 2.06-.94-2.06-.94-.94-2.06-.94 2.06-2.06.94z\"/><path d=\"M17.41 7.96l-1.37-1.37c-.4-.4-.92-.59-1.43-.59-.52 0-1.04.2-1.43.59L10.3 9.45l-7.72 7.72c-.78.78-.78 2.05 0 2.83L4 21.41c.39.39.9.59 1.41.59.51 0 1.02-.2 1.41-.59l7.78-7.78 2.81-2.81c.8-.78.8-2.07 0-2.86zM5.41 20L4 18.59l7.72-7.72 1.47 1.35L5.41 20z\"/>\n",
              "  </svg>\n",
              "      </button>\n",
              "      \n",
              "  <style>\n",
              "    .colab-df-container {\n",
              "      display:flex;\n",
              "      flex-wrap:wrap;\n",
              "      gap: 12px;\n",
              "    }\n",
              "\n",
              "    .colab-df-convert {\n",
              "      background-color: #E8F0FE;\n",
              "      border: none;\n",
              "      border-radius: 50%;\n",
              "      cursor: pointer;\n",
              "      display: none;\n",
              "      fill: #1967D2;\n",
              "      height: 32px;\n",
              "      padding: 0 0 0 0;\n",
              "      width: 32px;\n",
              "    }\n",
              "\n",
              "    .colab-df-convert:hover {\n",
              "      background-color: #E2EBFA;\n",
              "      box-shadow: 0px 1px 2px rgba(60, 64, 67, 0.3), 0px 1px 3px 1px rgba(60, 64, 67, 0.15);\n",
              "      fill: #174EA6;\n",
              "    }\n",
              "\n",
              "    [theme=dark] .colab-df-convert {\n",
              "      background-color: #3B4455;\n",
              "      fill: #D2E3FC;\n",
              "    }\n",
              "\n",
              "    [theme=dark] .colab-df-convert:hover {\n",
              "      background-color: #434B5C;\n",
              "      box-shadow: 0px 1px 3px 1px rgba(0, 0, 0, 0.15);\n",
              "      filter: drop-shadow(0px 1px 2px rgba(0, 0, 0, 0.3));\n",
              "      fill: #FFFFFF;\n",
              "    }\n",
              "  </style>\n",
              "\n",
              "      <script>\n",
              "        const buttonEl =\n",
              "          document.querySelector('#df-f0f2615e-c85d-460c-a900-58bdedb0da39 button.colab-df-convert');\n",
              "        buttonEl.style.display =\n",
              "          google.colab.kernel.accessAllowed ? 'block' : 'none';\n",
              "\n",
              "        async function convertToInteractive(key) {\n",
              "          const element = document.querySelector('#df-f0f2615e-c85d-460c-a900-58bdedb0da39');\n",
              "          const dataTable =\n",
              "            await google.colab.kernel.invokeFunction('convertToInteractive',\n",
              "                                                     [key], {});\n",
              "          if (!dataTable) return;\n",
              "\n",
              "          const docLinkHtml = 'Like what you see? Visit the ' +\n",
              "            '<a target=\"_blank\" href=https://colab.research.google.com/notebooks/data_table.ipynb>data table notebook</a>'\n",
              "            + ' to learn more about interactive tables.';\n",
              "          element.innerHTML = '';\n",
              "          dataTable['output_type'] = 'display_data';\n",
              "          await google.colab.output.renderOutput(dataTable, element);\n",
              "          const docLink = document.createElement('div');\n",
              "          docLink.innerHTML = docLinkHtml;\n",
              "          element.appendChild(docLink);\n",
              "        }\n",
              "      </script>\n",
              "    </div>\n",
              "  </div>\n",
              "  "
            ]
          },
          "metadata": {},
          "execution_count": 97
        }
      ]
    },
    {
      "cell_type": "code",
      "source": [
        "df_majority=df2[df2['y']==0]\n",
        "df_minority=df2[df2['y']==1]\n",
        "\n",
        "print('Before Resampling')\n",
        "print(df2['y'].value_counts())\n",
        "df_minority_smaple=resample(df_minority,replace=True,n_samples=39538,random_state=42)\n",
        "sns.countplot(df2['y'])\n",
        "plt.show()"
      ],
      "metadata": {
        "colab": {
          "base_uri": "https://localhost:8080/",
          "height": 433
        },
        "id": "1HZagV6KUorI",
        "outputId": "406badc8-1aa6-4008-bed9-90833b7e5771"
      },
      "execution_count": null,
      "outputs": [
        {
          "output_type": "stream",
          "name": "stdout",
          "text": [
            "Before Resampling\n",
            "0    39922\n",
            "1     5289\n",
            "Name: y, dtype: int64\n"
          ]
        },
        {
          "output_type": "display_data",
          "data": {
            "text/plain": [
              "<Figure size 576x396 with 1 Axes>"
            ],
            "image/png": "[encoded data removed]"
          },
          "metadata": {}
        }
      ]
    },
    {
      "cell_type": "code",
      "source": [
        "df_unsampled=pd.concat([df_minority_smaple,df_majority])\n",
        "print('After Resampling')\n",
        "print(df_unsampled['y'].value_counts())\n",
        "sns.countplot(df_unsampled['y'])\n",
        "plt.show()"
      ],
      "metadata": {
        "colab": {
          "base_uri": "https://localhost:8080/",
          "height": 433
        },
        "id": "-Cs7RPkuZJKT",
        "outputId": "a0eddbdb-45b4-4f83-85cf-a3cf84a5191d"
      },
      "execution_count": null,
      "outputs": [
        {
          "output_type": "stream",
          "name": "stdout",
          "text": [
            "After Resampling\n",
            "0    39922\n",
            "1    39538\n",
            "Name: y, dtype: int64\n"
          ]
        },
        {
          "output_type": "display_data",
          "data": {
            "text/plain": [
              "<Figure size 576x396 with 1 Axes>"
            ],
            "image/png": "[encoded data removed]"
          },
          "metadata": {}
        }
      ]
    },
    {
      "cell_type": "code",
      "source": [
        "df3=df_unsampled"
      ],
      "metadata": {
        "id": "OVWlkwjVdITd"
      },
      "execution_count": null,
      "outputs": []
    },
    {
      "cell_type": "markdown",
      "source": [
        "**4.Outliers Detection and Removal**"
      ],
      "metadata": {
        "id": "HvxIZIBrLIbt"
      }
    },
    {
      "cell_type": "code",
      "source": [
        "for elem in ['age','day','dur','num_calls']:\n",
        "  print(elem)\n",
        "  print(np.sort(df3[elem].unique()))"
      ],
      "metadata": {
        "colab": {
          "base_uri": "https://localhost:8080/"
        },
        "id": "9-o2E28iAMYn",
        "outputId": "613cf7af-ba8f-4025-b2ce-364d5925597c"
      },
      "execution_count": null,
      "outputs": [
        {
          "output_type": "stream",
          "name": "stdout",
          "text": [
            "age\n",
            "[18 19 20 21 22 23 24 25 26 27 28 29 30 31 32 33 34 35 36 37 38 39 40 41\n",
            " 42 43 44 45 46 47 48 49 50 51 52 53 54 55 56 57 58 59 60 61 62 63 64 65\n",
            " 66 67 68 69 70 71 72 73 74 75 76 77 78 79 80 81 82 83 84 85 86 87 88 89\n",
            " 90 92 93 94 95]\n",
            "day\n",
            "[ 1  2  3  4  5  6  7  8  9 10 11 12 13 14 15 16 17 18 19 20 21 22 23 24\n",
            " 25 26 27 28 29 30 31]\n",
            "dur\n",
            "[   0    1    2 ... 3785 3881 4918]\n",
            "num_calls\n",
            "[ 1  2  3  4  5  6  7  8  9 10 11 12 13 14 15 16 17 18 19 20 21 22 23 24\n",
            " 25 26 27 28 29 30 31 32 33 34 35 36 37 38 39 41 43 44 46 50 51 55 58 63]\n"
          ]
        }
      ]
    },
    {
      "cell_type": "code",
      "source": [
        "plt.figure(figsize=(10,5))\n",
        "plt.title('Before_Outlier')\n",
        "sns.boxplot(df3['dur'])\n",
        "plt.show()"
      ],
      "metadata": {
        "colab": {
          "base_uri": "https://localhost:8080/",
          "height": 349
        },
        "id": "iAAuQSHZFBmO",
        "outputId": "f10c538c-897c-48f9-d6c4-7344a4b4496b"
      },
      "execution_count": null,
      "outputs": [
        {
          "output_type": "display_data",
          "data": {
            "text/plain": [
              "<Figure size 720x360 with 1 Axes>"
            ],
            "image/png": "[encoded data removed]"
          },
          "metadata": {}
        }
      ]
    },
    {
      "cell_type": "code",
      "source": [
        "df3.values"
      ],
      "metadata": {
        "colab": {
          "base_uri": "https://localhost:8080/"
        },
        "id": "E8yAQNwdVGGG",
        "outputId": "f5e9b8f1-c862-4b42-94cc-e02c899df094"
      },
      "execution_count": null,
      "outputs": [
        {
          "output_type": "execute_result",
          "data": {
            "text/plain": [
              "array([[59,  0,  0, ...,  3,  1,  1],\n",
              "       [25,  0,  1, ...,  3,  1,  1],\n",
              "       [26,  0,  0, ...,  1,  4,  1],\n",
              "       ...,\n",
              "       [34,  0,  0, ...,  3,  3,  0],\n",
              "       [57,  0,  0, ...,  4,  1,  0],\n",
              "       [37,  0,  0, ...,  2,  3,  0]])"
            ]
          },
          "metadata": {},
          "execution_count": 103
        }
      ]
    },
    {
      "cell_type": "code",
      "source": [
        "z=np.abs(stats.zscore(df3.dur))\n",
        "print('\\tz_values\\n',z)\n",
        "print('\\nBefore Outliers',df3.shape)\n",
        "del_rows=np.where(z>3.0)\n",
        "rows=list(del_rows[0])\n",
        "\n",
        "df3.drop(df3.index[(rows)],inplace=True)\n",
        "print('\\nAfter Outliers',df3.shape)"
      ],
      "metadata": {
        "id": "LJevuM6wGyF6",
        "colab": {
          "base_uri": "https://localhost:8080/"
        },
        "outputId": "abc1dd07-7cf5-47e8-a8fe-59d8395abc3a"
      },
      "execution_count": null,
      "outputs": [
        {
          "output_type": "stream",
          "name": "stdout",
          "text": [
            "\tz_values\n",
            " 19066    0.393934\n",
            "45085    0.970753\n",
            "45005    0.527255\n",
            "42254    0.532994\n",
            "40506    0.022179\n",
            "           ...   \n",
            "45194    0.619087\n",
            "45198    0.128360\n",
            "45199    2.262139\n",
            "45209    0.373846\n",
            "45210    0.048007\n",
            "Name: dur, Length: 79460, dtype: float64\n",
            "\n",
            "Before Outliers (79460, 37)\n",
            "\n",
            "After Outliers (78052, 37)\n"
          ]
        }
      ]
    },
    {
      "cell_type": "code",
      "source": [
        "plt.figure(figsize=(10,5))\n",
        "plt.title('After_Outlier')\n",
        "sns.boxplot(df3['dur'])\n",
        "plt.show()"
      ],
      "metadata": {
        "colab": {
          "base_uri": "https://localhost:8080/",
          "height": 349
        },
        "id": "qd-oOkBFUo7Z",
        "outputId": "35ec91ca-0bb1-4c95-9727-00d5f9f0bb75"
      },
      "execution_count": null,
      "outputs": [
        {
          "output_type": "display_data",
          "data": {
            "text/plain": [
              "<Figure size 720x360 with 1 Axes>"
            ],
            "image/png": "[encoded data removed]"
          },
          "metadata": {}
        }
      ]
    },
    {
      "cell_type": "markdown",
      "source": [
        "**5.Train and test data split**"
      ],
      "metadata": {
        "id": "nOf3dOBTPaei"
      }
    },
    {
      "cell_type": "code",
      "source": [
        "x=df3.drop(['y'],axis=1) #Without Traget\n",
        "y=df3['y'] #Target"
      ],
      "metadata": {
        "id": "GehCEg9DaAgr"
      },
      "execution_count": null,
      "outputs": []
    },
    {
      "cell_type": "code",
      "source": [
        "x_train,x_test,y_train,y_test=train_test_split(x,y,test_size=0.3,random_state=42)"
      ],
      "metadata": {
        "id": "UcDaPpE1N9Zo"
      },
      "execution_count": null,
      "outputs": []
    },
    {
      "cell_type": "markdown",
      "source": [
        "**6.Implement Classifier Models**\n",
        "\n",
        "1.   **Random Forest Classifier**\n",
        "\n",
        "\n"
      ],
      "metadata": {
        "id": "zqr7E4fUkDDi"
      }
    },
    {
      "cell_type": "code",
      "source": [
        "#Model Creation\n",
        "model=RandomForestClassifier(n_estimators=10,criterion=\"gini\",random_state=0,n_jobs=-1,oob_score=True)\n",
        "#Fit the model\n",
        "model.fit(x_train,y_train)\n",
        "#Prediction\n",
        "y_pred=model.predict(x_test)"
      ],
      "metadata": {
        "id": "88_YGk0TWqkr"
      },
      "execution_count": null,
      "outputs": []
    },
    {
      "cell_type": "markdown",
      "source": [
        "2. **Accuracy Score**"
      ],
      "metadata": {
        "id": "TrFYl41zPLBj"
      }
    },
    {
      "cell_type": "code",
      "source": [
        "print('Accuracy Score :','{:.3f}'.format(accuracy_score(y_test,y_pred)))"
      ],
      "metadata": {
        "colab": {
          "base_uri": "https://localhost:8080/"
        },
        "id": "5WNjo337aowz",
        "outputId": "7c61faf3-c808-4bd2-e006-19aed107e058"
      },
      "execution_count": null,
      "outputs": [
        {
          "output_type": "stream",
          "name": "stdout",
          "text": [
            "Accuracy Score : 0.965\n"
          ]
        }
      ]
    },
    {
      "cell_type": "markdown",
      "source": [
        "\n",
        "\n",
        "*   n_estimator=10 and criterion='gini' we have 0.965\n",
        "*   (n_estimator=10 or n_estimators=100) and criterion='entrpoy' we have 0.963"
      ],
      "metadata": {
        "id": "_f7OSZhkyEKB"
      }
    },
    {
      "cell_type": "markdown",
      "source": [
        "3. **Out of bag error**"
      ],
      "metadata": {
        "id": "SH37OwjtPR9_"
      }
    },
    {
      "cell_type": "code",
      "source": [
        "#oob score\n",
        "print('Random Forest : Out of Bag Error : ','{:.3f}'.format(model.oob_score_))"
      ],
      "metadata": {
        "colab": {
          "base_uri": "https://localhost:8080/"
        },
        "id": "_FDLt_L9NcFS",
        "outputId": "4cf2923a-671e-4e42-daa9-5c9dc2594e46"
      },
      "execution_count": null,
      "outputs": [
        {
          "output_type": "stream",
          "name": "stdout",
          "text": [
            "Random Forest : Out of Bag Error :  0.956\n"
          ]
        }
      ]
    },
    {
      "cell_type": "markdown",
      "source": [
        "4. **Confusion Matrix**"
      ],
      "metadata": {
        "id": "uB5Ok-azPW6A"
      }
    },
    {
      "cell_type": "code",
      "source": [
        "print('Random Forest : Confusion Matrix\\n')\n",
        "print(confusion_matrix(y_test,y_pred))"
      ],
      "metadata": {
        "colab": {
          "base_uri": "https://localhost:8080/"
        },
        "id": "7LFElIOsc5gS",
        "outputId": "603e7c95-0a05-43f9-dba9-0a05b35d5cfe"
      },
      "execution_count": null,
      "outputs": [
        {
          "output_type": "stream",
          "name": "stdout",
          "text": [
            "Random Forest : Confusion Matrix\n",
            "\n",
            "[[11209   771]\n",
            " [   46 11390]]\n"
          ]
        }
      ]
    },
    {
      "cell_type": "markdown",
      "source": [
        "5. **Classification Report**"
      ],
      "metadata": {
        "id": "qU5UtE3pPb03"
      }
    },
    {
      "cell_type": "code",
      "source": [
        "print('Random Forest : Classification Report\\n')\n",
        "print(classification_report(y_test,y_pred))"
      ],
      "metadata": {
        "colab": {
          "base_uri": "https://localhost:8080/"
        },
        "id": "wFY7drsGbTkB",
        "outputId": "3f1911a4-14ff-4696-a365-a9a6b700cc60"
      },
      "execution_count": null,
      "outputs": [
        {
          "output_type": "stream",
          "name": "stdout",
          "text": [
            "Random Forest : Classification Report\n",
            "\n",
            "              precision    recall  f1-score   support\n",
            "\n",
            "           0       1.00      0.94      0.96     11980\n",
            "           1       0.94      1.00      0.97     11436\n",
            "\n",
            "    accuracy                           0.97     23416\n",
            "   macro avg       0.97      0.97      0.97     23416\n",
            "weighted avg       0.97      0.97      0.97     23416\n",
            "\n"
          ]
        }
      ]
    },
    {
      "cell_type": "markdown",
      "source": [
        "6. **Feature Importance**"
      ],
      "metadata": {
        "id": "FoHwOVgHPiD1"
      }
    },
    {
      "cell_type": "code",
      "source": [
        "feature_imp=model.feature_importances_\n",
        "feature_important=pd.Series(feature_imp,index=x_train.columns)\n",
        "feature_important=feature_important.sort_values(ascending=True)\n",
        "\n",
        "\n",
        "plt.figure(figsize=(11,8))\n",
        "plt.title('Feature Importance')\n",
        "plt.barh(feature_important.index,feature_important.values)\n",
        "plt.show()"
      ],
      "metadata": {
        "id": "LFE4PtemcUuJ",
        "colab": {
          "base_uri": "https://localhost:8080/",
          "height": 498
        },
        "outputId": "88353b94-6df0-4bed-8122-5831305d1643"
      },
      "execution_count": null,
      "outputs": [
        {
          "output_type": "display_data",
          "data": {
            "text/plain": [
              "<Figure size 792x576 with 1 Axes>"
            ],
            "image/png": "[encoded data removed]"
          },
          "metadata": {}
        }
      ]
    },
    {
      "cell_type": "markdown",
      "source": [
        "job_unknown feature is the least important feature so im going to drop it and \n",
        "\n",
        "---\n",
        "\n",
        "again build the model."
      ],
      "metadata": {
        "id": "25Kva14m7XdA"
      }
    },
    {
      "cell_type": "markdown",
      "source": [
        "7. **Random Forest Classifier & Logistics Regression**\n",
        "   \n",
        "   **Implement the models with selected features only**"
      ],
      "metadata": {
        "id": "EBe5X_hZCIQA"
      }
    },
    {
      "cell_type": "code",
      "source": [
        "#Without Traget\n",
        "x1=df3.drop(['y','job_unknown'],axis=1) \n",
        "\n",
        "#Target\n",
        "y1=df3['y'] "
      ],
      "metadata": {
        "id": "YyPCAr_6A1oE"
      },
      "execution_count": null,
      "outputs": []
    },
    {
      "cell_type": "markdown",
      "source": [
        "8.  **Train & Test split data**"
      ],
      "metadata": {
        "id": "OhbXEay7k2dN"
      }
    },
    {
      "cell_type": "code",
      "source": [
        "x_train1,x_test1,y_train1,y_test1=train_test_split(x1,y1,test_size=0.3,random_state=42)"
      ],
      "metadata": {
        "id": "441gVdjRCyQK"
      },
      "execution_count": null,
      "outputs": []
    },
    {
      "cell_type": "code",
      "source": [
        "#Implement the model\n",
        "model1=RandomForestClassifier(n_estimators=10,criterion=\"gini\",random_state=0,n_jobs=-1,oob_score=True)\n",
        "model2=LogisticRegression()\n",
        "\n",
        "#Fit the data\n",
        "model1.fit(x_train1,y_train1)\n",
        "model2.fit(x_train1,y_train1)\n",
        "\n",
        "#Predict the test data\n",
        "y_pred=model1.predict(x_test1)\n",
        "y_pred1=model2.predict(x_test1)"
      ],
      "metadata": {
        "id": "v0BDPBLYDPy-"
      },
      "execution_count": null,
      "outputs": []
    },
    {
      "cell_type": "markdown",
      "source": [
        "9. **Accuracy Score**"
      ],
      "metadata": {
        "id": "9tb-BnGtlsLo"
      }
    },
    {
      "cell_type": "code",
      "source": [
        "print('Random Forest Classifier : accuracy_score :','{:.3f}'.format(accuracy_score(y_test1,y_pred)))\n",
        "print('Logistics Regression : accuracy_score     :','{:.3f}'.format(accuracy_score(y_test1,y_pred1)))"
      ],
      "metadata": {
        "colab": {
          "base_uri": "https://localhost:8080/"
        },
        "id": "X086mIMCDuyg",
        "outputId": "109e9e44-e94a-48e2-a5f6-90d7e588b36c"
      },
      "execution_count": null,
      "outputs": [
        {
          "output_type": "stream",
          "name": "stdout",
          "text": [
            "Random Forest Classifier : accuracy_score : 0.967\n",
            "Logistics Regression : accuracy_score     : 0.803\n"
          ]
        }
      ]
    },
    {
      "cell_type": "markdown",
      "source": [
        "10. **Out of bag error**"
      ],
      "metadata": {
        "id": "UzSIqEBCQAuk"
      }
    },
    {
      "cell_type": "code",
      "source": [
        "print('Random Forest Classifier : oob score :','{:.3f}'.format(model1.oob_score_))"
      ],
      "metadata": {
        "colab": {
          "base_uri": "https://localhost:8080/"
        },
        "id": "72sJ-ADoNzQD",
        "outputId": "c4532359-b6ae-43b3-8aae-8366fb600a4a"
      },
      "execution_count": null,
      "outputs": [
        {
          "output_type": "stream",
          "name": "stdout",
          "text": [
            "Random Forest Classifier : oob score : 0.954\n"
          ]
        }
      ]
    },
    {
      "cell_type": "markdown",
      "source": [
        "11. **Confusion Matrix**"
      ],
      "metadata": {
        "id": "vaqrwnfTmRsS"
      }
    },
    {
      "cell_type": "code",
      "source": [
        "print('Random Forest Classifier : confusion_matrix : \\n',confusion_matrix(y_test1,y_pred))\n",
        "print('\\n')\n",
        "print('Logistics Regression     : confusion_matrix : \\n',confusion_matrix(y_test1,y_pred1))"
      ],
      "metadata": {
        "colab": {
          "base_uri": "https://localhost:8080/"
        },
        "id": "e_UQTieGD5qp",
        "outputId": "b78ef29d-b4d6-455b-c3f0-567f0db4b28b"
      },
      "execution_count": null,
      "outputs": [
        {
          "output_type": "stream",
          "name": "stdout",
          "text": [
            "Random Forest Classifier : confusion_matrix : \n",
            " [[11261   719]\n",
            " [   47 11389]]\n",
            "\n",
            "\n",
            "Logistics Regression     : confusion_matrix : \n",
            " [[9773 2207]\n",
            " [2402 9034]]\n"
          ]
        }
      ]
    },
    {
      "cell_type": "markdown",
      "source": [
        "12. **Classification Report**"
      ],
      "metadata": {
        "id": "UKlmxRgcmWrc"
      }
    },
    {
      "cell_type": "code",
      "source": [
        "print('Random Forest Classifier : classification_report \\n\\n',classification_report(y_test1,y_pred))\n",
        "print('\\n')\n",
        "print('Logistics Regression  : classification_report \\n\\n',classification_report(y_test1,y_pred1))"
      ],
      "metadata": {
        "colab": {
          "base_uri": "https://localhost:8080/"
        },
        "id": "0ByfZXJpEBdK",
        "outputId": "5a607b35-6075-40d4-aa13-b3c7009940ab"
      },
      "execution_count": null,
      "outputs": [
        {
          "output_type": "stream",
          "name": "stdout",
          "text": [
            "Random Forest Classifier : classification_report \n",
            "\n",
            "               precision    recall  f1-score   support\n",
            "\n",
            "           0       1.00      0.94      0.97     11980\n",
            "           1       0.94      1.00      0.97     11436\n",
            "\n",
            "    accuracy                           0.97     23416\n",
            "   macro avg       0.97      0.97      0.97     23416\n",
            "weighted avg       0.97      0.97      0.97     23416\n",
            "\n",
            "\n",
            "\n",
            "Logistics Regression  : classification_report \n",
            "\n",
            "               precision    recall  f1-score   support\n",
            "\n",
            "           0       0.80      0.82      0.81     11980\n",
            "           1       0.80      0.79      0.80     11436\n",
            "\n",
            "    accuracy                           0.80     23416\n",
            "   macro avg       0.80      0.80      0.80     23416\n",
            "weighted avg       0.80      0.80      0.80     23416\n",
            "\n"
          ]
        }
      ]
    },
    {
      "cell_type": "markdown",
      "source": [
        "13. **AUCROC Curve**"
      ],
      "metadata": {
        "id": "o49ZDwy7OWwK"
      }
    },
    {
      "cell_type": "code",
      "source": [
        "predict_prob1=model1.predict_proba(x_test1)\n",
        "predict_prob1=model2.predict_proba(x_test1)"
      ],
      "metadata": {
        "id": "SaGlg-zcEHtz"
      },
      "execution_count": null,
      "outputs": []
    },
    {
      "cell_type": "code",
      "source": [
        "fpr1, tpr1, thresh1 = roc_curve(y_test1, y_pred, pos_label=1)\n",
        "fpr2, tpr2, thresh2 = roc_curve(y_test1, y_pred1, pos_label=1)\n",
        "\n",
        "# roc curve for tpr = fpr \n",
        "random_probs = [0 for i in range(len(y_test1))]\n",
        "p_fpr, p_tpr, _ = roc_curve(y_test1, random_probs, pos_label=1)"
      ],
      "metadata": {
        "id": "f-8tdpXpAmbU"
      },
      "execution_count": null,
      "outputs": []
    },
    {
      "cell_type": "markdown",
      "source": [
        "14. **ROC Score**"
      ],
      "metadata": {
        "id": "ejEF3dcpQTEL"
      }
    },
    {
      "cell_type": "code",
      "source": [
        "# auc scores\n",
        "auc_score1 = roc_auc_score(y_test1, y_pred)\n",
        "auc_score2 = roc_auc_score(y_test1, y_pred1)\n",
        "\n",
        "print('Random Forest Classifier : roc_auc_score :','{:.3f}'.format(auc_score1))\n",
        "print('Logistics Regression     : roc_auc_score :','{:.3f}'.format(auc_score2))"
      ],
      "metadata": {
        "colab": {
          "base_uri": "https://localhost:8080/"
        },
        "id": "nt4LBlMKgwtX",
        "outputId": "9dbab404-e905-4396-dd2f-d17cdc6e54cb"
      },
      "execution_count": null,
      "outputs": [
        {
          "output_type": "stream",
          "name": "stdout",
          "text": [
            "Random Forest Classifier : roc_auc_score : 0.968\n",
            "Logistics Regression     : roc_auc_score : 0.803\n"
          ]
        }
      ]
    },
    {
      "cell_type": "markdown",
      "source": [
        "15. **Graph the ROC Curve**"
      ],
      "metadata": {
        "id": "An5TVIfjQZ82"
      }
    },
    {
      "cell_type": "code",
      "source": [
        "plt.style.use('seaborn')\n",
        "plt.figure(figsize=(10,7))\n",
        "# plot roc curves\n",
        "plt.plot(fpr1, tpr1, linestyle='--',color='orange', label='Random Forest')\n",
        "plt.plot(fpr2, tpr2, linestyle='--',color='green', label='Logistic Regression')\n",
        "plt.plot(p_fpr, p_tpr, linestyle='--', color='blue')\n",
        "# title\n",
        "plt.title('ROC curve',fontsize=15)\n",
        "# x label\n",
        "plt.xlabel('False Positive Rate',fontsize=15)\n",
        "# y label\n",
        "plt.ylabel('True Positive rate',fontsize=15)\n",
        "\n",
        "plt.legend(loc='best')\n",
        "plt.savefig('ROC',dpi=300)\n",
        "plt.show();"
      ],
      "metadata": {
        "colab": {
          "base_uri": "https://localhost:8080/",
          "height": 463
        },
        "id": "EsysQIJ8htDg",
        "outputId": "5d88a544-5631-4d81-83b3-cbbd9a8b31b1"
      },
      "execution_count": null,
      "outputs": [
        {
          "output_type": "display_data",
          "data": {
            "text/plain": [
              "<Figure size 720x504 with 1 Axes>"
            ],
            "image/png": "[encoded data removed]"
          },
          "metadata": {}
        }
      ]
    },
    {
      "cell_type": "markdown",
      "source": [
        "It is evident from the plot that the AUC for the Random Forest ROC curve is higher than that for the Logistic Regression ROC curve. Therefore, we can say that Random Forest did a better job of classifying the positive class in the dataset."
      ],
      "metadata": {
        "id": "gx3pPRiBrUkD"
      }
    },
    {
      "cell_type": "markdown",
      "source": [
        "16. **Gradient Boosting Algorithm**"
      ],
      "metadata": {
        "id": "iW04oB6TrI6K"
      }
    },
    {
      "cell_type": "code",
      "source": [
        "# Define Gradient Boosting Classifier \n",
        "gbc=GradientBoostingClassifier(n_estimators=500,learning_rate=0.05,random_state=100,max_features=5 )\n",
        "\n",
        "# Fit train data to GBC\n",
        "gbc.fit(x_train1,y_train1)\n",
        "\n",
        "# Confusion matrix will give number of correct and incorrect classifications\n",
        "print('Confusion Matrix :\\n\\n',confusion_matrix(y_test, gbc.predict(x_test1)))\n",
        "\n",
        "# Accuracy of model\n",
        "print(\"\\nGBC accuracy is %2.2f\\n\" % accuracy_score( y_test1, gbc.predict(x_test1)))\n",
        "pred=gbc.predict(x_test1)\n",
        "print('classification_report\\n\\n',classification_report(y_test1, pred))"
      ],
      "metadata": {
        "colab": {
          "base_uri": "https://localhost:8080/"
        },
        "id": "uDVNtF22h0rZ",
        "outputId": "a01c0da0-ff06-4b51-fbcc-c01bd90689f4"
      },
      "execution_count": null,
      "outputs": [
        {
          "output_type": "stream",
          "name": "stdout",
          "text": [
            "Confusion Matrix :\n",
            "\n",
            " [[10160  1820]\n",
            " [ 1419 10017]]\n",
            "\n",
            "GBC accuracy is 0.86\n",
            "\n",
            "classification_report\n",
            "\n",
            "               precision    recall  f1-score   support\n",
            "\n",
            "           0       0.88      0.85      0.86     11980\n",
            "           1       0.85      0.88      0.86     11436\n",
            "\n",
            "    accuracy                           0.86     23416\n",
            "   macro avg       0.86      0.86      0.86     23416\n",
            "weighted avg       0.86      0.86      0.86     23416\n",
            "\n"
          ]
        }
      ]
    },
    {
      "cell_type": "markdown",
      "source": [
        "The accuracy is 86%, which is pretty good but this can be improved by tuning the hyperparameters."
      ],
      "metadata": {
        "id": "nh1k0CmvlDqS"
      }
    },
    {
      "cell_type": "markdown",
      "source": [
        "17. **Parameter Tuning in Gradient Boosting**\n",
        "\n",
        "   **Tuning n_estimators and Learning rate**\n",
        "\n",
        "n_estimators is the number of trees that we want to add in the model. there are no optimum values for learning rate as low values always work better, given that we train on sufficient number of trees. a high number of trees can be computationally expensive that’s why i have taken few number of trees here."
      ],
      "metadata": {
        "id": "AgI19fMikwUZ"
      }
    },
    {
      "cell_type": "code",
      "source": [
        "grid = {'learning_rate':[0.01,0.05,0.1],'n_estimators':np.arange(100,500,100),}\n",
        "gb = GradientBoostingClassifier()\n",
        "gb_cv = GridSearchCV(gb, grid, cv = 4)\n",
        "gb_cv.fit(x_train1,y_train1)\n",
        "\n",
        "print(\"Best Parameters:\",gb_cv.best_params_)\n",
        "print(\"\\nTrain Score:\",'{:.2f}'.format(gb_cv.best_score_))\n",
        "print(\"Test Score:\",'{:.2f}'.format(gb_cv.score(x_test1,y_test1)))"
      ],
      "metadata": {
        "colab": {
          "base_uri": "https://localhost:8080/"
        },
        "id": "iwwZiLMSiERn",
        "outputId": "3f2a1a06-6644-4485-8666-478174e553f1"
      },
      "execution_count": null,
      "outputs": [
        {
          "output_type": "stream",
          "name": "stdout",
          "text": [
            "Best Parameters: {'learning_rate': 0.1, 'n_estimators': 400}\n",
            "\n",
            "Train Score: 0.88\n",
            "Test Score: 0.87\n"
          ]
        }
      ]
    },
    {
      "cell_type": "markdown",
      "source": [
        "We see the accuracy increased from 86 to 88 after tuning n_estimators and learning rate. Also the “true positive” and the “true negative” rate improved.\n",
        "\n",
        "We can also tune max_depth parameter which you must have heard in decision trees and random forests.\n",
        "\n"
      ],
      "metadata": {
        "id": "JD2GjrK4kmbo"
      }
    },
    {
      "cell_type": "code",
      "source": [
        "grid = {'max_depth':[2,3,4,5,6,7] }\n",
        "gb = GradientBoostingClassifier(learning_rate=0.1,n_estimators=400)\n",
        "gb_cv = GridSearchCV(gb, grid, cv = 4)\n",
        "gb_cv.fit(x_train1,y_train1)"
      ],
      "metadata": {
        "colab": {
          "base_uri": "https://localhost:8080/",
          "height": 116
        },
        "id": "0Zp4e8tHiIOb",
        "outputId": "9984d4b1-5bc8-43ad-81a2-e14c12b43cc4"
      },
      "execution_count": null,
      "outputs": [
        {
          "output_type": "execute_result",
          "data": {
            "text/plain": [
              "GridSearchCV(cv=4, estimator=GradientBoostingClassifier(n_estimators=400),\n",
              "             param_grid={'max_depth': [2, 3, 4, 5, 6, 7]})"
            ],
            "text/html": [
              "<style>#sk-container-id-1 {color: black;background-color: white;}#sk-container-id-1 pre{padding: 0;}#sk-container-id-1 div.sk-toggleable {background-color: white;}#sk-container-id-1 label.sk-toggleable__label {cursor: pointer;display: block;width: 100%;margin-bottom: 0;padding: 0.3em;box-sizing: border-box;text-align: center;}#sk-container-id-1 label.sk-toggleable__label-arrow:before {content: \"▸\";float: left;margin-right: 0.25em;color: #696969;}#sk-container-id-1 label.sk-toggleable__label-arrow:hover:before {color: black;}#sk-container-id-1 div.sk-estimator:hover label.sk-toggleable__label-arrow:before {color: black;}#sk-container-id-1 div.sk-toggleable__content {max-height: 0;max-width: 0;overflow: hidden;text-align: left;background-color: #f0f8ff;}#sk-container-id-1 div.sk-toggleable__content pre {margin: 0.2em;color: black;border-radius: 0.25em;background-color: #f0f8ff;}#sk-container-id-1 input.sk-toggleable__control:checked~div.sk-toggleable__content {max-height: 200px;max-width: 100%;overflow: auto;}#sk-container-id-1 input.sk-toggleable__control:checked~label.sk-toggleable__label-arrow:before {content: \"▾\";}#sk-container-id-1 div.sk-estimator input.sk-toggleable__control:checked~label.sk-toggleable__label {background-color: #d4ebff;}#sk-container-id-1 div.sk-label input.sk-toggleable__control:checked~label.sk-toggleable__label {background-color: #d4ebff;}#sk-container-id-1 input.sk-hidden--visually {border: 0;clip: rect(1px 1px 1px 1px);clip: rect(1px, 1px, 1px, 1px);height: 1px;margin: -1px;overflow: hidden;padding: 0;position: absolute;width: 1px;}#sk-container-id-1 div.sk-estimator {font-family: monospace;background-color: #f0f8ff;border: 1px dotted black;border-radius: 0.25em;box-sizing: border-box;margin-bottom: 0.5em;}#sk-container-id-1 div.sk-estimator:hover {background-color: #d4ebff;}#sk-container-id-1 div.sk-parallel-item::after {content: \"\";width: 100%;border-bottom: 1px solid gray;flex-grow: 1;}#sk-container-id-1 div.sk-label:hover label.sk-toggleable__label {background-color: #d4ebff;}#sk-container-id-1 div.sk-serial::before {content: \"\";position: absolute;border-left: 1px solid gray;box-sizing: border-box;top: 0;bottom: 0;left: 50%;z-index: 0;}#sk-container-id-1 div.sk-serial {display: flex;flex-direction: column;align-items: center;background-color: white;padding-right: 0.2em;padding-left: 0.2em;position: relative;}#sk-container-id-1 div.sk-item {position: relative;z-index: 1;}#sk-container-id-1 div.sk-parallel {display: flex;align-items: stretch;justify-content: center;background-color: white;position: relative;}#sk-container-id-1 div.sk-item::before, #sk-container-id-1 div.sk-parallel-item::before {content: \"\";position: absolute;border-left: 1px solid gray;box-sizing: border-box;top: 0;bottom: 0;left: 50%;z-index: -1;}#sk-container-id-1 div.sk-parallel-item {display: flex;flex-direction: column;z-index: 1;position: relative;background-color: white;}#sk-container-id-1 div.sk-parallel-item:first-child::after {align-self: flex-end;width: 50%;}#sk-container-id-1 div.sk-parallel-item:last-child::after {align-self: flex-start;width: 50%;}#sk-container-id-1 div.sk-parallel-item:only-child::after {width: 0;}#sk-container-id-1 div.sk-dashed-wrapped {border: 1px dashed gray;margin: 0 0.4em 0.5em 0.4em;box-sizing: border-box;padding-bottom: 0.4em;background-color: white;}#sk-container-id-1 div.sk-label label {font-family: monospace;font-weight: bold;display: inline-block;line-height: 1.2em;}#sk-container-id-1 div.sk-label-container {text-align: center;}#sk-container-id-1 div.sk-container {/* jupyter's `normalize.less` sets `[hidden] { display: none; }` but bootstrap.min.css set `[hidden] { display: none !important; }` so we also need the `!important` here to be able to override the default hidden behavior on the sphinx rendered scikit-learn.org. See: https://github.com/scikit-learn/scikit-learn/issues/21755 */display: inline-block !important;position: relative;}#sk-container-id-1 div.sk-text-repr-fallback {display: none;}</style><div id=\"sk-container-id-1\" class=\"sk-top-container\"><div class=\"sk-text-repr-fallback\"><pre>GridSearchCV(cv=4, estimator=GradientBoostingClassifier(n_estimators=400),\n",
              "             param_grid={&#x27;max_depth&#x27;: [2, 3, 4, 5, 6, 7]})</pre><b>In a Jupyter environment, please rerun this cell to show the HTML representation or trust the notebook. <br />On GitHub, the HTML representation is unable to render, please try loading this page with nbviewer.org.</b></div><div class=\"sk-container\" hidden><div class=\"sk-item sk-dashed-wrapped\"><div class=\"sk-label-container\"><div class=\"sk-label sk-toggleable\"><input class=\"sk-toggleable__control sk-hidden--visually\" id=\"sk-estimator-id-1\" type=\"checkbox\" ><label for=\"sk-estimator-id-1\" class=\"sk-toggleable__label sk-toggleable__label-arrow\">GridSearchCV</label><div class=\"sk-toggleable__content\"><pre>GridSearchCV(cv=4, estimator=GradientBoostingClassifier(n_estimators=400),\n",
              "             param_grid={&#x27;max_depth&#x27;: [2, 3, 4, 5, 6, 7]})</pre></div></div></div><div class=\"sk-parallel\"><div class=\"sk-parallel-item\"><div class=\"sk-item\"><div class=\"sk-label-container\"><div class=\"sk-label sk-toggleable\"><input class=\"sk-toggleable__control sk-hidden--visually\" id=\"sk-estimator-id-2\" type=\"checkbox\" ><label for=\"sk-estimator-id-2\" class=\"sk-toggleable__label sk-toggleable__label-arrow\">estimator: GradientBoostingClassifier</label><div class=\"sk-toggleable__content\"><pre>GradientBoostingClassifier(n_estimators=400)</pre></div></div></div><div class=\"sk-serial\"><div class=\"sk-item\"><div class=\"sk-estimator sk-toggleable\"><input class=\"sk-toggleable__control sk-hidden--visually\" id=\"sk-estimator-id-3\" type=\"checkbox\" ><label for=\"sk-estimator-id-3\" class=\"sk-toggleable__label sk-toggleable__label-arrow\">GradientBoostingClassifier</label><div class=\"sk-toggleable__content\"><pre>GradientBoostingClassifier(n_estimators=400)</pre></div></div></div></div></div></div></div></div></div></div>"
            ]
          },
          "metadata": {},
          "execution_count": 127
        }
      ]
    },
    {
      "cell_type": "code",
      "source": [
        "print(\"Best Parameters:\",gb_cv.best_params_)\n",
        "print(\"\\nTrain Score:\",'{:.2f}'.format(gb_cv.best_score_))\n",
        "print(\"Test Score:\",'{:.2f}'.format(gb_cv.score(x_test1,y_test1)))"
      ],
      "metadata": {
        "colab": {
          "base_uri": "https://localhost:8080/"
        },
        "id": "H1lPufXhu9lW",
        "outputId": "1bb20acb-6f83-4305-93c4-992c3e7de8ee"
      },
      "execution_count": null,
      "outputs": [
        {
          "output_type": "stream",
          "name": "stdout",
          "text": [
            "Best Parameters: {'max_depth': 7}\n",
            "\n",
            "Train Score: 0.94\n",
            "Test Score: 0.94\n"
          ]
        }
      ]
    },
    {
      "cell_type": "markdown",
      "source": [
        "The accuracy has increased even more when we tuned the parameter “max_depth”."
      ],
      "metadata": {
        "id": "lRVgei7qkgZH"
      }
    },
    {
      "cell_type": "markdown",
      "source": [
        "#**Conclusion**\n",
        "**The most contributing and important feature is \"dur\". roc curve, accuracy score, confusion_matrix, classification report said that random forest is better than Gradient Boosting and logistic regression .**\n",
        "\n",
        "**Accuracy score of Random Forest Classifier : 97%**\n",
        "\n",
        "**Accuracy score of Logistics Regression     : 80%** \n",
        "\n",
        "**Accuracy score of Gradient Boosting        : 94%**\n",
        "\n",
        "\n",
        "\n",
        "**Random Forest model is fitted to this dataset.**"
      ],
      "metadata": {
        "id": "7E92BdG1lssG"
      }
    }
  ]
}
